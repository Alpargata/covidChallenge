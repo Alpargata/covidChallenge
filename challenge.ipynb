{
 "cells": [
  {
   "cell_type": "code",
   "execution_count": 1,
   "metadata": {
    "ExecuteTime": {
     "end_time": "2020-12-17T15:22:25.476131Z",
     "start_time": "2020-12-17T15:22:25.459345Z"
    }
   },
   "outputs": [],
   "source": [
    "%load_ext autoreload\n",
    "%autoreload 2"
   ]
  },
  {
   "cell_type": "code",
   "execution_count": 2,
   "metadata": {
    "ExecuteTime": {
     "end_time": "2020-12-17T15:52:48.474322Z",
     "start_time": "2020-12-17T15:52:48.421690Z"
    }
   },
   "outputs": [],
   "source": [
    "%matplotlib inline\n",
    "import matplotlib as mpl\n",
    "import matplotlib.pyplot as plt\n",
    "import os\n",
    "import urllib.request\n",
    "import pickle\n",
    "\n",
    "import pandas as pd\n",
    "mpl.rcParams['figure.dpi']= 150\n",
    "\n",
    "\n",
    "pd.set_option('display.max_rows', 500)\n",
    "pd.set_option('display.max_columns', 500)\n",
    "pd.set_option('display.width', 1000)"
   ]
  },
  {
   "cell_type": "code",
   "execution_count": 3,
   "metadata": {
    "ExecuteTime": {
     "end_time": "2020-12-17T15:56:09.127374Z",
     "start_time": "2020-12-17T15:56:09.075414Z"
    }
   },
   "outputs": [],
   "source": [
    "import numpy as np \n",
    "import matplotlib\n",
    "import seaborn as sns\n",
    "import pandas as pd\n",
    "\n",
    "from sklearn.ensemble import RandomForestRegressor\n",
    "from sklearn.datasets import make_regression\n",
    "from sklearn.model_selection import train_test_split\n",
    "from sklearn.tree import DecisionTreeRegressor\n",
    "from sklearn.ensemble import AdaBoostRegressor\n",
    "\n",
    "plt.style.use('ggplot')\n",
    "\n",
    "import ipywidgets as widgets\n",
    "from ipywidgets import interact, fixed"
   ]
  },
  {
   "cell_type": "code",
   "execution_count": 4,
   "metadata": {
    "ExecuteTime": {
     "end_time": "2020-12-17T15:52:49.814597Z",
     "start_time": "2020-12-17T15:52:49.770199Z"
    }
   },
   "outputs": [],
   "source": [
    "HYPOTHETICAL_SUBMISSION_DATE = np.datetime64(\"2020-09-30\")"
   ]
  },
  {
   "cell_type": "code",
   "execution_count": 5,
   "metadata": {},
   "outputs": [],
   "source": [
    "# Main source for the training data\n",
    "DATA_URL = 'https://raw.githubusercontent.com/OxCGRT/covid-policy-tracker/master/data/OxCGRT_latest.csv'\n",
    "# Local file\n",
    "DATA_FILE = 'data/OxCGRT_latest.csv'\n",
    "\n",
    "def download_historical(url=DATA_URL, file=DATA_FILE):\n",
    "    if not os.path.exists('data'):\n",
    "        os.mkdir('data')\n",
    "    urllib.request.urlretrieve(url, file)\n",
    "\n",
    "def load_historical(file=DATA_FILE):\n",
    "    # Load historical data from local file\n",
    "    df = pd.read_csv(file,\n",
    "        parse_dates=['Date'],\n",
    "        encoding=\"ISO-8859-1\",\n",
    "        dtype={\"RegionName\": str,\n",
    "               \"RegionCode\": str},\n",
    "        error_bad_lines=False)\n",
    "    return df"
   ]
  },
  {
   "cell_type": "code",
   "execution_count": 6,
   "metadata": {
    "ExecuteTime": {
     "end_time": "2020-12-17T15:56:13.799620Z",
     "start_time": "2020-12-17T15:56:12.471182Z"
    }
   },
   "outputs": [],
   "source": [
    "download_historical()\n",
    "df = load_historical()"
   ]
  },
  {
   "cell_type": "code",
   "execution_count": 7,
   "metadata": {},
   "outputs": [],
   "source": [
    "df.rename(columns=lambda x: x.replace(' ','_').replace('/','_'), inplace=True)"
   ]
  },
  {
   "cell_type": "code",
   "execution_count": 8,
   "metadata": {},
   "outputs": [],
   "source": [
    "#Assignate the correct type\n",
    "df.Date = pd.to_datetime(df['Date'], format='%Y%m%d')\n",
    "df = df.astype({'C1_School_closing':'category', 'C2_Workplace_closing':'category', \n",
    "           'C3_Cancel_public_events':'category','C4_Restrictions_on_gatherings':'category',\n",
    "           'C5_Close_public_transport':'category', 'C6_Stay_at_home_requirements':'category', \n",
    "           'C7_Restrictions_on_internal_movement':'category', 'C8_International_travel_controls':'category', \n",
    "           'E1_Income_support':'category', 'E2_Debt_contract_relief':'category', \n",
    "           'H1_Public_information_campaigns':'category', 'H2_Testing_policy':'category', \n",
    "           'H3_Contact_tracing':'category',  'CountryCode':'category',\n",
    "           'H6_Facial_Coverings':'category', 'H7_Vaccination_policy':'category', 'M1_Wildcard':'category'})"
   ]
  },
  {
   "cell_type": "code",
   "execution_count": 9,
   "metadata": {},
   "outputs": [],
   "source": [
    "#Jurisdiction, M1 and all the indexes can be dropped\n",
    "df.drop(['Jurisdiction','M1_Wildcard', 'StringencyIndex', 'StringencyIndexForDisplay', 'StringencyLegacyIndex', \n",
    "        'StringencyLegacyIndexForDisplay', 'GovernmentResponseIndex', 'GovernmentResponseIndexForDisplay',\n",
    "        'ContainmentHealthIndex', 'ContainmentHealthIndexForDisplay', 'EconomicSupportIndex', \n",
    "        'EconomicSupportIndexForDisplay'], axis=1, inplace=True)"
   ]
  },
  {
   "cell_type": "code",
   "execution_count": 10,
   "metadata": {},
   "outputs": [],
   "source": [
    "#Create feature for CountryName and Region\n",
    "df['CountryRegion'] = df.RegionName\n",
    "df.CountryRegion = df.CountryRegion.fillna(df.CountryName)"
   ]
  },
  {
   "cell_type": "code",
   "execution_count": 11,
   "metadata": {},
   "outputs": [],
   "source": [
    "#Delete USA, UK only country data\n",
    "indexes = list(df[((df.CountryRegion=='United States') | (df.CountryRegion=='United Kingdom'))].index)\n",
    "\n",
    "#Delete Brazil and Canada regions\n",
    "indexes.extend(df[((df.CountryName=='Brazil') & (df.RegionName.isna()==False))].index)\n",
    "indexes.extend(df[((df.CountryName=='Canada') & (df.RegionName.isna()==False))].index)\n",
    "\n",
    "#Delete Turkmenistan, Tonga and Malta\n",
    "indexes.extend(df[((df.CountryName=='Tonga') | (df.CountryName=='Turkmenistan')) | (df.CountryName=='Malta')].index)\n",
    "\n",
    "df.drop(labels = indexes, axis=0, inplace=True)"
   ]
  },
  {
   "cell_type": "code",
   "execution_count": 12,
   "metadata": {},
   "outputs": [],
   "source": [
    "#Create new variables for day, month and year\n",
    "df['Month'] = df.Date.apply(lambda x: x.month)\n",
    "df['Year'] = df.Date.apply(lambda x: x.year)\n",
    "df['Day'] = df.Date.apply(lambda x: x.day)"
   ]
  },
  {
   "cell_type": "code",
   "execution_count": 13,
   "metadata": {},
   "outputs": [],
   "source": [
    "#Initialized values to 0 in categorical variables to then fill na with the previous value\n",
    "df.loc[(df['Date']=='2020-01-01'), 'C1_School_closing'] = 0\n",
    "df.loc[(df['Date']=='2020-01-01'), 'C2_Workplace_closing'] = 0\n",
    "df.loc[(df['Date']=='2020-01-01'), 'C3_Cancel_public_events'] = 0\n",
    "df.loc[(df['Date']=='2020-01-01'), 'C4_Restrictions_on_gatherings'] = 0\n",
    "df.loc[(df['Date']=='2020-01-01'), 'C5_Close_public_transport'] = 0\n",
    "df.loc[(df['Date']=='2020-01-01'), 'C6_Stay_at_home_requirements'] = 0\n",
    "df.loc[(df['Date']=='2020-01-01'), 'C7_Restrictions_on_internal_movement'] = 0\n",
    "df.loc[(df['Date']=='2020-01-01'), 'C8_International_travel_controls'] = 0\n",
    "df.loc[(df['Date']=='2020-01-01'), 'E1_Income_support'] = 0\n",
    "df.loc[(df['Date']=='2020-01-01'), 'E2_Debt_contract_relief'] = 0\n",
    "df.loc[(df['Date']=='2020-01-01'), 'H1_Public_information_campaigns'] = 0\n",
    "df.loc[(df['Date']=='2020-01-01'), 'H2_Testing_policy'] = 0\n",
    "df.loc[(df['Date']=='2020-01-01'), 'H3_Contact_tracing'] = 0\n",
    "df.loc[(df['Date']=='2020-01-01'), 'H6_Facial_Coverings'] = 0\n",
    "df.loc[(df['Date']=='2020-01-01'), 'H7_Vaccination_policy'] = 0"
   ]
  },
  {
   "cell_type": "code",
   "execution_count": 14,
   "metadata": {},
   "outputs": [],
   "source": [
    "#Fill NaN values by 0\n",
    "df.C1_School_closing.fillna(method='ffill', inplace=True)\n",
    "df.C2_Workplace_closing.fillna(method='ffill', inplace=True)\n",
    "df.C3_Cancel_public_events.fillna(method='ffill', inplace=True)\n",
    "df.C4_Restrictions_on_gatherings.fillna(method='ffill', inplace=True)\n",
    "df.C5_Close_public_transport.fillna(method='ffill', inplace=True)\n",
    "df.C6_Stay_at_home_requirements.fillna(method='ffill', inplace=True)\n",
    "df.C7_Restrictions_on_internal_movement.fillna(method='ffill', inplace=True)\n",
    "df.C8_International_travel_controls.fillna(method='ffill', inplace=True)\n",
    "df.E1_Income_support.fillna(method='ffill', inplace=True)\n",
    "df.E2_Debt_contract_relief.fillna(method='ffill', inplace=True)\n",
    "df.E3_Fiscal_measures.fillna(0, inplace=True)\n",
    "df.E4_International_support.fillna(0, inplace=True)\n",
    "df.H1_Public_information_campaigns.fillna(method='ffill', inplace=True)\n",
    "df.H2_Testing_policy.fillna(method='ffill', inplace=True)\n",
    "df.H3_Contact_tracing.fillna(method='ffill', inplace=True)\n",
    "df.H4_Emergency_investment_in_healthcare.fillna(0, inplace=True)\n",
    "df.H5_Investment_in_vaccines.fillna(0, inplace=True)\n",
    "df.H6_Facial_Coverings.fillna(method='ffill', inplace=True)\n",
    "df.H7_Vaccination_policy.fillna(method='ffill', inplace=True)"
   ]
  },
  {
   "cell_type": "code",
   "execution_count": 15,
   "metadata": {},
   "outputs": [],
   "source": [
    "flags = ['C1_Flag', 'C2_Flag', 'C3_Flag', 'C4_Flag', 'C5_Flag', 'C6_Flag', 'C7_Flag', 'E1_Flag', 'H1_Flag', 'H6_Flag', 'H7_Flag']\n",
    "for col in flags:\n",
    "    df[col].fillna(2, inplace=True)\n",
    "    df[col] = df[col].apply(lambda x : 1 if x==1 else (0.5 if x==0 else 0))"
   ]
  },
  {
   "cell_type": "code",
   "execution_count": 16,
   "metadata": {},
   "outputs": [],
   "source": [
    "#Confirmed cases fill na with previous values\n",
    "df.loc[(df['Date']=='2020-01-01'), 'ConfirmedCases'] = 0\n",
    "df.ConfirmedCases.fillna(method='ffill', inplace=True)"
   ]
  },
  {
   "cell_type": "code",
   "execution_count": 17,
   "metadata": {},
   "outputs": [],
   "source": [
    "#Confirmed deaths fill na with previous values\n",
    "df.loc[(df['Date']=='2020-01-01'), 'ConfirmedDeaths'] = 0\n",
    "df.ConfirmedDeaths.fillna(method='ffill', inplace=True)"
   ]
  },
  {
   "cell_type": "markdown",
   "metadata": {},
   "source": [
    "# Model"
   ]
  },
  {
   "cell_type": "code",
   "execution_count": 20,
   "metadata": {},
   "outputs": [],
   "source": [
    "def split_historical(df, split_date):\n",
    "    df_train = df[df.Date <= split_date]\n",
    "    df_test = df[df.Date > split_date]\n",
    "    return df_train, df_test"
   ]
  },
  {
   "cell_type": "code",
   "execution_count": 21,
   "metadata": {},
   "outputs": [
    {
     "name": "stdout",
     "output_type": "stream",
     "text": [
      "Spliting at :  2020-09-30\n"
     ]
    }
   ],
   "source": [
    "print(\"Spliting at : \", HYPOTHETICAL_SUBMISSION_DATE)\n",
    "df_train, df_test = split_historical(df, HYPOTHETICAL_SUBMISSION_DATE)"
   ]
  },
  {
   "cell_type": "code",
   "execution_count": 60,
   "metadata": {},
   "outputs": [
    {
     "data": {
      "text/plain": [
       "AdaBoostRegressor(base_estimator=DecisionTreeRegressor(max_depth=8),\n",
       "                  n_estimators=500)"
      ]
     },
     "execution_count": 60,
     "metadata": {},
     "output_type": "execute_result"
    }
   ],
   "source": [
    "X_train = df_train.drop(['ConfirmedCases', 'Date', 'CountryName', 'CountryCode', 'RegionName', 'RegionCode',\n",
    "                         'CountryRegion', 'ConfirmedDeaths'], axis=1)\n",
    "y_train = df_train.ConfirmedCases \n",
    "X_test = df_test.drop(['ConfirmedCases', 'Date', 'CountryName', 'CountryCode', 'RegionName', 'RegionCode',\n",
    "                         'CountryRegion', 'ConfirmedDeaths'], axis=1)\n",
    "y_test = df_test.ConfirmedCases \n",
    "\n",
    "ada = AdaBoostRegressor(DecisionTreeRegressor(max_depth=8), n_estimators=500)\n",
    "ada.fit(X_train, y_train)"
   ]
  },
  {
   "cell_type": "code",
   "execution_count": 61,
   "metadata": {},
   "outputs": [],
   "source": [
    "# Predict\n",
    "y_ada = ada.predict(X_test)"
   ]
  },
  {
   "cell_type": "code",
   "execution_count": 62,
   "metadata": {},
   "outputs": [],
   "source": [
    "def mae(pred, true):\n",
    "    return np.mean(np.abs(pred - true))"
   ]
  },
  {
   "cell_type": "code",
   "execution_count": 63,
   "metadata": {},
   "outputs": [
    {
     "data": {
      "text/plain": [
       "173832.6051727659"
      ]
     },
     "execution_count": 63,
     "metadata": {},
     "output_type": "execute_result"
    }
   ],
   "source": [
    "mae(y_ada, y_test)"
   ]
  },
  {
   "cell_type": "code",
   "execution_count": null,
   "metadata": {},
   "outputs": [],
   "source": []
  }
 ],
 "metadata": {
  "kernelspec": {
   "display_name": "Python 3",
   "language": "python",
   "name": "python3"
  },
  "language_info": {
   "codemirror_mode": {
    "name": "ipython",
    "version": 3
   },
   "file_extension": ".py",
   "mimetype": "text/x-python",
   "name": "python",
   "nbconvert_exporter": "python",
   "pygments_lexer": "ipython3",
   "version": "3.8.5"
  },
  "toc": {
   "base_numbering": 1,
   "nav_menu": {},
   "number_sections": true,
   "sideBar": true,
   "skip_h1_title": false,
   "title_cell": "Table of Contents",
   "title_sidebar": "Contents",
   "toc_cell": false,
   "toc_position": {},
   "toc_section_display": true,
   "toc_window_display": false
  }
 },
 "nbformat": 4,
 "nbformat_minor": 4
}
